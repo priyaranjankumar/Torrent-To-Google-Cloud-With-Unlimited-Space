{
  "nbformat": 4,
  "nbformat_minor": 0,
  "metadata": {
    "colab": {
      "name": "Cloud-Torrent-Downloader.ipynb",
      "provenance": [],
      "collapsed_sections": []
    },
    "kernelspec": {
      "name": "python3",
      "display_name": "Python 3"
    }
  },
  "cells": [
    {
      "cell_type": "markdown",
      "metadata": {
        "id": "uSkE4qtQ8fv_"
      },
      "source": [
        "Mounting Google Drive"
      ]
    },
    {
      "cell_type": "code",
      "metadata": {
        "id": "sFnLgm6T7z6v"
      },
      "source": [
        "from google.colab import drive\r\n",
        "drive.mount('/drive/') "
      ],
      "execution_count": null,
      "outputs": []
    },
    {
      "cell_type": "markdown",
      "metadata": {
        "id": "RITJBweg8mLz"
      },
      "source": [
        "Installing Dependencies"
      ]
    },
    {
      "cell_type": "code",
      "metadata": {
        "id": "uQFLAlcs8dnZ"
      },
      "source": [
        "!apt install python3-libtorrent"
      ],
      "execution_count": null,
      "outputs": []
    },
    {
      "cell_type": "markdown",
      "metadata": {
        "id": "sB5zDDai8eSo"
      },
      "source": [
        "If you're using shared drive then change the **test** to **your-shared-drive-name**\r\n",
        "\r\n",
        "\r\n",
        "Run and Paste the Magnet Link"
      ]
    },
    {
      "cell_type": "code",
      "metadata": {
        "id": "SFblyxzT9NJp"
      },
      "source": [
        "\r\n",
        "import libtorrent as lt\r\n",
        "import time\r\n",
        "import datetime\r\n",
        "\r\n",
        "ses = lt.session()\r\n",
        "ses.listen_on(6881, 6891)\r\n",
        "params = {\r\n",
        "    'save_path': '/drive/Shared drives/test/Torrent/',\r\n",
        "    #Here 'test' is the name of my shared drive so change accoring to yours\r\n",
        "    #if you're are using primary drive then change the save_path = '/drive/My Drive/Torrent'\r\n",
        "    'storage_mode': lt.storage_mode_t(2),\r\n",
        "    'paused': False,\r\n",
        "    'auto_managed': True,\r\n",
        "    'duplicate_is_error': True}\r\n",
        "link =input(\"Enter Magnet Link Here \")\r\n",
        "print(link)\r\n",
        "\r\n",
        "handle = lt.add_magnet_uri(ses, link, params)\r\n",
        "ses.start_dht()\r\n",
        "\r\n",
        "begin = time.time()\r\n",
        "print(datetime.datetime.now())\r\n",
        "\r\n",
        "print ('Downloading Metadata...')\r\n",
        "while (not handle.has_metadata()):\r\n",
        "    time.sleep(1)\r\n",
        "print ('Got Metadata, Starting Torrent Download...')\r\n",
        "\r\n",
        "print(\"Starting\", handle.name())\r\n",
        "\r\n",
        "while (handle.status().state != lt.torrent_status.seeding):\r\n",
        "    s = handle.status()\r\n",
        "    state_str = ['queued', 'checking', 'downloading metadata', \\\r\n",
        "            'downloading', 'finished', 'seeding', 'allocating']\r\n",
        "    print ('%.2f%% complete (down: %.1f kb/s up: %.1f kB/s peers: %d) %s ' % \\\r\n",
        "            (s.progress * 100, s.download_rate / 1000, s.upload_rate / 1000, \\\r\n",
        "            s.num_peers, state_str[s.state]))\r\n",
        "    time.sleep(5)\r\n",
        "\r\n",
        "end = time.time()\r\n",
        "print(handle.name(), \"COMPLETE\")\r\n",
        "\r\n",
        "print(\"Elapsed Time: \",int((end-begin)//60),\"min :\", int((end-begin)%60), \"sec\")\r\n",
        "\r\n",
        "print(datetime.datetime.now())"
      ],
      "execution_count": null,
      "outputs": []
    }
  ]
}